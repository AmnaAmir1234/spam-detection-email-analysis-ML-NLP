{
  "nbformat": 4,
  "nbformat_minor": 0,
  "metadata": {
    "colab": {
      "provenance": []
    },
    "kernelspec": {
      "name": "python3",
      "display_name": "Python 3"
    },
    "language_info": {
      "name": "python"
    }
  },
  "cells": [
    {
      "cell_type": "code",
      "source": [
        "import nltk\n",
        "from nltk.corpus import stopwords\n",
        "from nltk.stem import WordNetLemmatizer\n",
        "import string\n",
        "\n",
        "nltk.download('punkt')\n",
        "nltk.download('stopwords')\n",
        "nltk.download('wordnet')\n"
      ],
      "metadata": {
        "colab": {
          "base_uri": "https://localhost:8080/"
        },
        "id": "-DCLoLZGXKWT",
        "outputId": "db25e43f-9786-4ca3-ea7d-c6eb6636d205"
      },
      "execution_count": 2,
      "outputs": [
        {
          "output_type": "stream",
          "name": "stderr",
          "text": [
            "[nltk_data] Downloading package punkt to /root/nltk_data...\n",
            "[nltk_data]   Package punkt is already up-to-date!\n",
            "[nltk_data] Downloading package stopwords to /root/nltk_data...\n",
            "[nltk_data]   Package stopwords is already up-to-date!\n",
            "[nltk_data] Downloading package wordnet to /root/nltk_data...\n",
            "[nltk_data]   Package wordnet is already up-to-date!\n"
          ]
        },
        {
          "output_type": "execute_result",
          "data": {
            "text/plain": [
              "True"
            ]
          },
          "metadata": {},
          "execution_count": 2
        }
      ]
    },
    {
      "cell_type": "code",
      "execution_count": 3,
      "metadata": {
        "colab": {
          "base_uri": "https://localhost:8080/",
          "height": 260
        },
        "id": "qKGkqQT-W7TZ",
        "outputId": "aeb12df3-3e3b-4630-9b77-92ca10d48675"
      },
      "outputs": [
        {
          "output_type": "stream",
          "name": "stdout",
          "text": [
            "      Category                                  Processed_Message\n",
            "0            0  [go, jurong, point, crazy, available, bugis, n...\n",
            "1            0                     [ok, lar, joking, wif, u, oni]\n",
            "2            1  [free, entry, 2, wkly, comp, win, fa, cup, fin...\n",
            "3            0      [u, dun, say, early, hor, u, c, already, say]\n",
            "4            0  [nah, dont, think, go, usf, life, around, though]\n",
            "...        ...                                                ...\n",
            "5567         1  [2nd, time, tried, 2, contact, u, u, £750, pou...\n",
            "5568         0                 [ü, b, going, esplanade, fr, home]\n",
            "5569         0                [pity, wa, mood, soany, suggestion]\n",
            "5570         0  [guy, bitching, acted, like, id, interested, b...\n",
            "5571         0                                 [rofl, true, name]\n",
            "\n",
            "[5572 rows x 2 columns]\n"
          ]
        },
        {
          "output_type": "display_data",
          "data": {
            "text/plain": [
              "<IPython.core.display.Javascript object>"
            ],
            "application/javascript": [
              "\n",
              "    async function download(id, filename, size) {\n",
              "      if (!google.colab.kernel.accessAllowed) {\n",
              "        return;\n",
              "      }\n",
              "      const div = document.createElement('div');\n",
              "      const label = document.createElement('label');\n",
              "      label.textContent = `Downloading \"${filename}\": `;\n",
              "      div.appendChild(label);\n",
              "      const progress = document.createElement('progress');\n",
              "      progress.max = size;\n",
              "      div.appendChild(progress);\n",
              "      document.body.appendChild(div);\n",
              "\n",
              "      const buffers = [];\n",
              "      let downloaded = 0;\n",
              "\n",
              "      const channel = await google.colab.kernel.comms.open(id);\n",
              "      // Send a message to notify the kernel that we're ready.\n",
              "      channel.send({})\n",
              "\n",
              "      for await (const message of channel.messages) {\n",
              "        // Send a message to notify the kernel that we're ready.\n",
              "        channel.send({})\n",
              "        if (message.buffers) {\n",
              "          for (const buffer of message.buffers) {\n",
              "            buffers.push(buffer);\n",
              "            downloaded += buffer.byteLength;\n",
              "            progress.value = downloaded;\n",
              "          }\n",
              "        }\n",
              "      }\n",
              "      const blob = new Blob(buffers, {type: 'application/binary'});\n",
              "      const a = document.createElement('a');\n",
              "      a.href = window.URL.createObjectURL(blob);\n",
              "      a.download = filename;\n",
              "      div.appendChild(a);\n",
              "      a.click();\n",
              "      div.remove();\n",
              "    }\n",
              "  "
            ]
          },
          "metadata": {}
        },
        {
          "output_type": "display_data",
          "data": {
            "text/plain": [
              "<IPython.core.display.Javascript object>"
            ],
            "application/javascript": [
              "download(\"download_7b8e7e4f-e1e8-48c1-b358-79444d30b824\", \"lemmatized_without_stopwords_puntuation.csv\", 492381)"
            ]
          },
          "metadata": {}
        }
      ],
      "source": [
        "from google.colab import files\n",
        "import pandas as pd\n",
        "\n",
        "# Step 2: Read CSV\n",
        "df = pd.read_csv('mail_data.csv')\n",
        "\n",
        "# Step 3: Preprocess Data\n",
        "# Function to convert text to lowercase, remove punctuation, and tokenize\n",
        "def preprocess_and_tokenize(text):\n",
        "    # Convert to lowercase\n",
        "    text = text.lower()\n",
        "\n",
        "    # Remove punctuation using translate with string.punctuation\n",
        "    translator = str.maketrans('', '', string.punctuation)\n",
        "    text = text.translate(translator)\n",
        "\n",
        "    # Tokenize by splitting by whitespace\n",
        "    tokens = nltk.word_tokenize(text)\n",
        "\n",
        "    return tokens\n",
        "\n",
        "# Apply the preprocessing and tokenization function to the 'Message' column\n",
        "df['Processed_Message'] = df['Message'].apply(preprocess_and_tokenize)\n",
        "\n",
        "# Replace 'ham' with 0 and 'spam' with 1 in the 'Category' column\n",
        "df['Category'] = df['Category'].map({'ham': 0, 'spam': 1})\n",
        "\n",
        "# Lemmatize the tokenized text\n",
        "lemmatizer = WordNetLemmatizer()\n",
        "df['Processed_Message'] = df['Processed_Message'].apply(lambda tokens: [lemmatizer.lemmatize(word) for word in tokens])\n",
        "\n",
        "# Remove stopwords\n",
        "stop_words = set(stopwords.words('english'))\n",
        "df['Processed_Message'] = df['Processed_Message'].apply(lambda tokens: [word for word in tokens if word not in stop_words])\n",
        "\n",
        "# Display the processed DataFrame\n",
        "print(df[['Category', 'Processed_Message']])\n",
        "\n",
        "# Step 4: Save the processed DataFrame to a new CSV file\n",
        "output_filename = 'lemmatized_without_stopwords_puntuation.csv'\n",
        "df[['Category', 'Processed_Message']].to_csv(output_filename, index=False)\n",
        "\n",
        "# Download the file to your local machine\n",
        "files.download(output_filename)"
      ]
    }
  ]
}