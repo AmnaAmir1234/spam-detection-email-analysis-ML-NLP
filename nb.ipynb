{
 "cells": [
  {
   "cell_type": "code",
   "execution_count": 12,
   "id": "0e442217",
   "metadata": {},
   "outputs": [
    {
     "name": "stdout",
     "output_type": "stream",
     "text": [
      "[0 1]\n",
      "0    4825\n",
      "1     747\n",
      "Name: Category, dtype: int64\n",
      "Model Accuracy: 0.9542600896860987\n",
      "                                      Processed_Message  Actual_Category  \\\n",
      "3245  ['squeeeeeze', 'this', 'is', 'christmas', 'hug...                0   \n",
      "944   ['and', 'also', 'ive', 'sorta', 'blown', 'him'...                0   \n",
      "1044  ['mmm', 'thats', 'better', 'now', 'i', 'got', ...                0   \n",
      "2484  ['mm', 'have', 'some', 'kanji', 'dont', 'eat',...                0   \n",
      "812   ['so', 'theres', 'a', 'ring', 'that', 'comes',...                0   \n",
      "...                                                 ...              ...   \n",
      "4264  ['den', 'only', 'weekdays', 'got', 'special', ...                0   \n",
      "2439  ['i', 'not', 'busy', 'juz', 'dun', 'wan', '2',...                0   \n",
      "5556  ['yes', 'i', 'have', 'so', 'thats', 'why', 'u'...                0   \n",
      "4205  ['how', 'are', 'you', 'enjoying', 'this', 'sem...                0   \n",
      "4293                                            ['gwr']                0   \n",
      "\n",
      "      Predicted_Category  \n",
      "3245                   0  \n",
      "944                    0  \n",
      "1044                   0  \n",
      "2484                   0  \n",
      "812                    0  \n",
      "...                  ...  \n",
      "4264                   0  \n",
      "2439                   0  \n",
      "5556                   0  \n",
      "4205                   0  \n",
      "4293                   0  \n",
      "\n",
      "[1115 rows x 3 columns]\n"
     ]
    }
   ],
   "source": [
    "import pandas as pd\n",
    "from sklearn.model_selection import train_test_split\n",
    "from sklearn.feature_extraction.text import TfidfVectorizer\n",
    "from sklearn.naive_bayes import MultinomialNB\n",
    "from sklearn.pipeline import make_pipeline\n",
    "from sklearn.metrics import accuracy_score\n",
    "import numpy as np\n",
    "\n",
    "# Set random seed for reproducibility\n",
    "random_seed = 42\n",
    "np.random.seed(random_seed)\n",
    "\n",
    "# Load the preprocessed and tokenized email dataset into a DataFrame\n",
    "file_path = 'lower_withoutpunctuation_tokenized.csv'  # Replace 'your_dataset.csv' with your dataset path\n",
    "df = pd.read_csv(file_path)\n",
    "\n",
    "# Check the unique values in the 'Category' column (0 for not spam, 1 for spam)\n",
    "print(df['Category'].unique())\n",
    "\n",
    "# Check the class distribution in 'Category' column\n",
    "print(df['Category'].value_counts())\n",
    "\n",
    "# Split the data into training and testing sets (80-20 ratio) with a fixed random seed\n",
    "X_train, X_test, y_train, y_test = train_test_split(\n",
    "    df['Processed_Message'], df['Category'], test_size=0.2, random_state=random_seed\n",
    ")\n",
    "\n",
    "# Create a pipeline with TF-IDF vectorizer and MultinomialNB classifier\n",
    "pipeline = make_pipeline(TfidfVectorizer(), MultinomialNB())\n",
    "\n",
    "# Fit the pipeline\n",
    "pipeline.fit(X_train, y_train)\n",
    "\n",
    "# Predict on the test set\n",
    "predictions = pipeline.predict(X_test)\n",
    "\n",
    "# Calculate accuracy\n",
    "accuracy = accuracy_score(y_test, predictions)\n",
    "print(f\"Model Accuracy: {accuracy}\")\n",
    "\n",
    "# Save predicted categories (spam or not spam) to a CSV file\n",
    "results_df = pd.DataFrame({'Processed_Message': X_test, 'Actual_Category': y_test, 'Predicted_Category': predictions})\n",
    "results_df.to_csv('predicted_emails.csv', index=False)\n",
    "\n",
    "# Display the DataFrame with actual and predicted categories\n",
    "print(results_df)\n"
   ]
  },
  {
   "cell_type": "code",
   "execution_count": null,
   "id": "b9f3c96c",
   "metadata": {},
   "outputs": [],
   "source": []
  }
 ],
 "metadata": {
  "kernelspec": {
   "display_name": "Python 3 (ipykernel)",
   "language": "python",
   "name": "python3"
  },
  "language_info": {
   "codemirror_mode": {
    "name": "ipython",
    "version": 3
   },
   "file_extension": ".py",
   "mimetype": "text/x-python",
   "name": "python",
   "nbconvert_exporter": "python",
   "pygments_lexer": "ipython3",
   "version": "3.11.4"
  }
 },
 "nbformat": 4,
 "nbformat_minor": 5
}
